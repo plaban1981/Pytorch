{
  "nbformat": 4,
  "nbformat_minor": 0,
  "metadata": {
    "kernelspec": {
      "name": "python3",
      "display_name": "Python 3"
    },
    "language_info": {
      "codemirror_mode": {
        "name": "ipython",
        "version": 3
      },
      "file_extension": ".py",
      "mimetype": "text/x-python",
      "name": "python",
      "nbconvert_exporter": "python",
      "pygments_lexer": "ipython3",
      "version": "3.7.3"
    },
    "colab": {
      "name": "PyTorch 1.1.ipynb",
      "provenance": [],
      "include_colab_link": true
    },
    "accelerator": "GPU"
  },
  "cells": [
    {
      "cell_type": "markdown",
      "metadata": {
        "id": "view-in-github",
        "colab_type": "text"
      },
      "source": [
        "<a href=\"https://colab.research.google.com/github/plaban1981/Pytorch/blob/master/PyTorch_1_1.ipynb\" target=\"_parent\"><img src=\"https://colab.research.google.com/assets/colab-badge.svg\" alt=\"Open In Colab\"/></a>"
      ]
    },
    {
      "cell_type": "markdown",
      "metadata": {
        "id": "ZpVlL7_H7lfL",
        "colab_type": "text"
      },
      "source": [
        "# What is PyTorch?"
      ]
    },
    {
      "cell_type": "markdown",
      "metadata": {
        "id": "Jb5ujkSw7lfR",
        "colab_type": "text"
      },
      "source": [
        "<img src=\"download.jpg\">"
      ]
    },
    {
      "cell_type": "markdown",
      "metadata": {
        "id": "fWf3ft227lfX",
        "colab_type": "text"
      },
      "source": [
        "PyTorch is a Python-based scientific computing package that uses the power of graphics processing units(GPU). It is also one of the preferred deep learning research platforms built to provide maximum flexibility and speed. It is known for providing two of the most high-level features; namely, tensor computations with strong GPU acceleration support and building deep neural networks on a tape-based autograd systems.\n",
        "\n",
        "There are many existing Python libraries which have the potential to change how deep learning and artificial intelligence are performed, and this is one such library. One of the key reasons behind PyTorch’s success is it is completely Pythonic and one can build neural network models effortlessly. It is still a young player when compared to its other competitors, however, it is gaining momentum fast."
      ]
    },
    {
      "cell_type": "markdown",
      "metadata": {
        "id": "KXdSduEP7lfc",
        "colab_type": "text"
      },
      "source": [
        "## Brief History about PyTorch\n",
        "\n",
        "Since its release in January 2016, many researchers have continued to increasingly adopt PyTorch. It has quickly become a go-to library because of its ease in building extremely complex neural networks. It is giving a tough competition to TensorFlow especially when used for research work. However, there is still some time before it is adopted by the masses due to its still “new” and “under construction” tags.\n",
        "\n",
        "PyTorch creators envisioned this library to be highly imperative which can allow them to run all the numerical computations quickly. This is an ideal methodology which fits perfectly with the Python programming style. It has allowed deep learning scientists, machine learning developers, and neural network debuggers to run and test part of the code in real time. Thus they don’t have to wait for the entire code to be executed to check whether it works or not.\n",
        "You can always use your favorite Python packages such as NumPy, SciPy, and Cython to extend PyTorch functionalities and services when required. Now you might ask, why PyTorch? What’ so special in using it to build deep learning models?\n",
        "\n",
        "The answer is quite simple, PyTorch is a dynamic library (very flexible and you can use as per your requirements and changes) which is currently adopted by many of the researchers, students, and artificial intelligence developers. In the recent Kaggle competition, PyTorch library was used by nearly all of the top 10 finishers.\n",
        "\n",
        "Some of the key highlights of PyTorch includes:\n",
        "\n",
        "__Simple Interface:__ It offers easy to use API, thus it is very simple to operate and run like Python.\n",
        "\n",
        "__Pythonic in nature:__ This library, being Pythonic, smoothly integrates with the Python data science stack. Thus it can leverage all the services and functionalities offered by the Python environment.\n",
        "\n",
        "__Computational graphs:__ In addition to this, PyTorch provides an excellent platform which offers dynamic computational graphs, thus you can change them during runtime. This is highly useful when you have no idea how much memory will be required for creating a neural network model."
      ]
    },
    {
      "cell_type": "markdown",
      "metadata": {
        "id": "IkIAHGaL7lfe",
        "colab_type": "text"
      },
      "source": [
        "### Why we use PyTorch in research field?\n",
        "\n",
        "Anyone who is working in the field of deep learning and artificial intelligence has likely worked with TensorFlow before, Google’s most popular open source library. However, the latest deep learning framework – PyTorch solves major problems in terms of research work. Arguably PyTorch is TensorFlow’s biggest competitor to date, and it is currently a much favored deep learning and artificial intelligence library in the research community.\n",
        "\n",
        "\n",
        "You might be thinking why we use PyTorch? I list down the three factors for that\n",
        "\n",
        "- Using API is Easy: It is as simple as Python.\n",
        "- Pyt"
      ]
    },
    {
      "cell_type": "markdown",
      "metadata": {
        "id": "J0qQSkkb7lfh",
        "colab_type": "text"
      },
      "source": [
        "### CPU v/s GPU\n",
        "  - CPU have fewer but more powerful compute cores, and whereas GPUs have a large number of lower-performant cores.\n",
        "  - CPUs are more suited to sequential tasks and GPUs are suitable for tasks with significant parallelization.\n",
        "\n",
        "<img src=\"Cpu vs Gpu.png\">"
      ]
    },
    {
      "cell_type": "markdown",
      "metadata": {
        "id": "Aqa4s-rW7lfi",
        "colab_type": "text"
      },
      "source": [
        "### Install\n",
        "\n",
        "<mark style=\"background-color: Blue\">__In CPU__</mark>\n",
        "\n",
        "__For Windows__\n",
        "\n",
        "* Install PyTorch using conda\n",
        "      conda install pytorch torchvision cpuonly -c pytorch\n",
        "\n",
        "* Using pip\n",
        "      pip3 install torch==1.4.0+cpu torchvision==0.5.0+cpu -f https://download.pytorch.org/whl/torch_stable.html\n",
        "        \n",
        "__For Mac__\n",
        "\n",
        "* Using conda\n",
        "      conda install pytorch torchvision -c pytorch\n",
        "    \n",
        "* Using pip\n",
        "      pip3 install torch torchvision\n",
        "    \n",
        "__For Linux__\n",
        "\n",
        "* Using conda\n",
        "      conda install pytorch torchvision cpuonly -c pytorch\n",
        "    \n",
        "* Using pip\n",
        "      pip3 install torch==1.4.0+cpu torchvision==0.5.0+cpu -f https://download.pytorch.org/whl/torch_stable.html\n",
        "      \n",
        "      \n",
        "      \n",
        "<mark style=\"background-color: Green\">__In GPU__</mark>\n",
        "\n",
        "__For Windows__\n",
        "\n",
        "* Install PyTorch using conda cuda=9.2 and Python=3.6\n",
        "      conda install pytorch torchvision cudatoolkit=9.2 -c pytorch\n",
        "     \n",
        "* Using conda cuda=10.1 and Python=3.6 \n",
        "      conda install pytorch torchvision cudatoolkit=10.1 -c pytorch\n",
        "     \n",
        "* Install Pytorch using pip cuda=9.2 and Python=3.6\n",
        "      pip3 install torch==1.4.0+cu92 torchvision==0.5.0+cu92 -f https://download.pytorch.org/whl/torch_stable.html\n",
        "     \n",
        "* Using pip cuda=10.1 and Python=3.6\n",
        "      pip3 install torch torchvision\n",
        "     \n",
        "__For Linux__\n",
        "\n",
        "* Install PyTorch using conda cuda=9.2 and Python=3.6\n",
        "      conda install pytorch torchvision cudatoolkit=9.2 -c pytorch\n",
        "     \n",
        "* Using conda cuda=10.1 and Python=3.6\n",
        "      conda install pytorch torchvision cudatoolkit=10.1 -c pytorch\n",
        "     \n",
        "* Install Pytorch using pip cuda=9.2 and Python=3.6\n",
        "      pip3 install torch==1.4.0+cu92 torchvision==0.5.0+cu92 -f https://download.pytorch.org/whl/torch_stable.html\n",
        "     \n",
        "* Using pip cuda=10.1 and Python=3.6\n",
        "      pip3 install torch torchvision\n",
        "     \n",
        "__For Mac__\n",
        "\n",
        "* Install PyTorch using conda  for cuda=9.2 and 10.1 we can use same command and Python=3.6\n",
        "\n",
        "      conda install pytorch torchvision -c pytorch\n",
        "         # MacOS Binaries dont support CUDA, install from source if CUDA is needed\n",
        "       \n",
        "* Install Pytorch using pip for cuda=9.2 and 10.1 we can use same command and Python=3.6\n",
        "\n",
        "      pip3 install torch torchvision\n",
        "         # MacOS Binaries dont support CUDA, install from source if CUDA is needed\n",
        "      \n",
        "You have to run all these commands in __Anaconda Prompt__ , if you want to install in a notebook just put \" ! \" mark before the command like: !pip3 install torch==1.4.0+cpu torchvision==0.5.0+cpu -f https://download.pytorch.org/whl/torch_stable.html"
      ]
    },
    {
      "cell_type": "markdown",
      "metadata": {
        "id": "flWItNdE7lfl",
        "colab_type": "text"
      },
      "source": [
        "For more information about Installation you can go through this site : \"https://pytorch.org/\""
      ]
    },
    {
      "cell_type": "code",
      "metadata": {
        "id": "M9bnHKvm7-Mw",
        "colab_type": "code",
        "colab": {
          "base_uri": "https://localhost:8080/",
          "height": 323
        },
        "outputId": "0af3c35a-b996-4279-baaa-cddcd04251d5"
      },
      "source": [
        "!pip3 install torch==1.4.0+cu92 torchvision==0.5.0+cu92 -f https://download.pytorch.org/whl/torch_stable.html"
      ],
      "execution_count": 1,
      "outputs": [
        {
          "output_type": "stream",
          "text": [
            "Looking in links: https://download.pytorch.org/whl/torch_stable.html\n",
            "Collecting torch==1.4.0+cu92\n",
            "\u001b[?25l  Downloading https://download.pytorch.org/whl/cu92/torch-1.4.0%2Bcu92-cp36-cp36m-linux_x86_64.whl (640.5MB)\n",
            "\u001b[K     |████████████████████████████████| 640.6MB 27kB/s \n",
            "\u001b[?25hCollecting torchvision==0.5.0+cu92\n",
            "\u001b[?25l  Downloading https://download.pytorch.org/whl/cu92/torchvision-0.5.0%2Bcu92-cp36-cp36m-linux_x86_64.whl (3.9MB)\n",
            "\u001b[K     |████████████████████████████████| 4.0MB 593kB/s \n",
            "\u001b[?25hRequirement already satisfied: pillow>=4.1.1 in /usr/local/lib/python3.6/dist-packages (from torchvision==0.5.0+cu92) (6.2.2)\n",
            "Requirement already satisfied: six in /usr/local/lib/python3.6/dist-packages (from torchvision==0.5.0+cu92) (1.12.0)\n",
            "Requirement already satisfied: numpy in /usr/local/lib/python3.6/dist-packages (from torchvision==0.5.0+cu92) (1.17.5)\n",
            "Installing collected packages: torch, torchvision\n",
            "  Found existing installation: torch 1.4.0\n",
            "    Uninstalling torch-1.4.0:\n",
            "      Successfully uninstalled torch-1.4.0\n",
            "  Found existing installation: torchvision 0.5.0\n",
            "    Uninstalling torchvision-0.5.0:\n",
            "      Successfully uninstalled torchvision-0.5.0\n",
            "Successfully installed torch-1.4.0+cu92 torchvision-0.5.0+cu92\n"
          ],
          "name": "stdout"
        }
      ]
    },
    {
      "cell_type": "code",
      "metadata": {
        "id": "EeKBrgDq9UPu",
        "colab_type": "code",
        "colab": {
          "base_uri": "https://localhost:8080/",
          "height": 102
        },
        "outputId": "b383cbf6-2eee-495f-f422-d844f22c1315"
      },
      "source": [
        "!pip3 install torch torchvision"
      ],
      "execution_count": 2,
      "outputs": [
        {
          "output_type": "stream",
          "text": [
            "Requirement already satisfied: torch in /usr/local/lib/python3.6/dist-packages (1.4.0+cu92)\n",
            "Requirement already satisfied: torchvision in /usr/local/lib/python3.6/dist-packages (0.5.0+cu92)\n",
            "Requirement already satisfied: six in /usr/local/lib/python3.6/dist-packages (from torchvision) (1.12.0)\n",
            "Requirement already satisfied: pillow>=4.1.1 in /usr/local/lib/python3.6/dist-packages (from torchvision) (6.2.2)\n",
            "Requirement already satisfied: numpy in /usr/local/lib/python3.6/dist-packages (from torchvision) (1.17.5)\n"
          ],
          "name": "stdout"
        }
      ]
    },
    {
      "cell_type": "markdown",
      "metadata": {
        "id": "09G1vyrn7lfo",
        "colab_type": "text"
      },
      "source": [
        "### Tensors\n",
        "\n",
        "Tensor is similar to Numpy's ndarray, the additional point for Tensors in we can use it in GPUs to accelerate computing."
      ]
    },
    {
      "cell_type": "code",
      "metadata": {
        "id": "MnCATAPJ7lfv",
        "colab_type": "code",
        "colab": {}
      },
      "source": [
        "from __future__ import print_function\n",
        "import torch"
      ],
      "execution_count": 0,
      "outputs": []
    },
    {
      "cell_type": "markdown",
      "metadata": {
        "id": "-9-De7_v7lf6",
        "colab_type": "text"
      },
      "source": [
        "__Note:__ Uninitialized matrix is declared, but doesn't contain definite known values before it is used. When we created an Unintialized matrix, whatever values were allocated inside the memory will apear as the initial values."
      ]
    },
    {
      "cell_type": "code",
      "metadata": {
        "id": "H7Gm-HJpD4fE",
        "colab_type": "code",
        "colab": {
          "base_uri": "https://localhost:8080/",
          "height": 34
        },
        "outputId": "729eaff4-3d3c-4344-bd16-e0468cab9c33"
      },
      "source": [
        "torch.__version__"
      ],
      "execution_count": 9,
      "outputs": [
        {
          "output_type": "execute_result",
          "data": {
            "text/plain": [
              "'1.4.0+cu92'"
            ]
          },
          "metadata": {
            "tags": []
          },
          "execution_count": 9
        }
      ]
    },
    {
      "cell_type": "markdown",
      "metadata": {
        "id": "2m6uEZKw7lf_",
        "colab_type": "text"
      },
      "source": [
        "Construct 6x3 matrix, uninitialized:"
      ]
    },
    {
      "cell_type": "code",
      "metadata": {
        "id": "MURCeRtr7lgC",
        "colab_type": "code",
        "colab": {
          "base_uri": "https://localhost:8080/",
          "height": 119
        },
        "outputId": "543246cb-08ab-4eb7-d9e0-72537e396c86"
      },
      "source": [
        "a = torch.empty(6,3) ## not like np.empty that it creates empty matrix\n",
        "print(a)"
      ],
      "execution_count": 4,
      "outputs": [
        {
          "output_type": "stream",
          "text": [
            "tensor([[7.1104e-36, 0.0000e+00, 4.8674e-39],\n",
            "        [1.1939e-39, 8.3571e-39, 2.9388e-39],\n",
            "        [2.9388e-39, 2.9388e-39, 2.3593e-16],\n",
            "        [2.3618e-16, 2.3618e-16, 2.3618e-16],\n",
            "        [2.3618e-16, 2.3618e-16, 2.9522e-39],\n",
            "        [2.9388e-39, 2.9388e-39, 2.9388e-39]])\n"
          ],
          "name": "stdout"
        }
      ]
    },
    {
      "cell_type": "code",
      "metadata": {
        "id": "wSaZU4oiEPsI",
        "colab_type": "code",
        "colab": {
          "base_uri": "https://localhost:8080/",
          "height": 34
        },
        "outputId": "7e69c598-0ee1-4121-d3ec-2b2e773cdb6b"
      },
      "source": [
        "type(a)"
      ],
      "execution_count": 10,
      "outputs": [
        {
          "output_type": "execute_result",
          "data": {
            "text/plain": [
              "torch.Tensor"
            ]
          },
          "metadata": {
            "tags": []
          },
          "execution_count": 10
        }
      ]
    },
    {
      "cell_type": "markdown",
      "metadata": {
        "id": "7TNqzOQl7lgO",
        "colab_type": "text"
      },
      "source": [
        "Construct a randomly initialized matrix:"
      ]
    },
    {
      "cell_type": "code",
      "metadata": {
        "id": "qaiz6y2G7lgS",
        "colab_type": "code",
        "colab": {
          "base_uri": "https://localhost:8080/",
          "height": 85
        },
        "outputId": "021b8c0b-35b3-4e69-85ec-41d927d1cb29"
      },
      "source": [
        "a = torch.rand(4,3)\n",
        "print(a)"
      ],
      "execution_count": 16,
      "outputs": [
        {
          "output_type": "stream",
          "text": [
            "tensor([[0.5824, 0.7891, 0.4902],\n",
            "        [0.3174, 0.7268, 0.0029],\n",
            "        [0.9121, 0.6482, 0.4497],\n",
            "        [0.9470, 0.6411, 0.3330]])\n"
          ],
          "name": "stdout"
        }
      ]
    },
    {
      "cell_type": "markdown",
      "metadata": {
        "id": "ZaNUWtzA7lgg",
        "colab_type": "text"
      },
      "source": [
        "Construct a matrix filled zeros and of dtype long:"
      ]
    },
    {
      "cell_type": "code",
      "metadata": {
        "id": "gZFgpmcY7lgh",
        "colab_type": "code",
        "colab": {
          "base_uri": "https://localhost:8080/",
          "height": 85
        },
        "outputId": "57840f54-551e-463c-bffc-56401545714f"
      },
      "source": [
        "a = torch.zeros(4,3, dtype=torch.long)\n",
        "print(a)"
      ],
      "execution_count": 17,
      "outputs": [
        {
          "output_type": "stream",
          "text": [
            "tensor([[0, 0, 0],\n",
            "        [0, 0, 0],\n",
            "        [0, 0, 0],\n",
            "        [0, 0, 0]])\n"
          ],
          "name": "stdout"
        }
      ]
    },
    {
      "cell_type": "markdown",
      "metadata": {
        "id": "skAi_NVz7lgo",
        "colab_type": "text"
      },
      "source": [
        "Construct a tensor with data:"
      ]
    },
    {
      "cell_type": "code",
      "metadata": {
        "id": "3nuZhcwz7lgp",
        "colab_type": "code",
        "colab": {
          "base_uri": "https://localhost:8080/",
          "height": 34
        },
        "outputId": "4f3c6ce6-d792-47be-9054-ada6b25eb1b9"
      },
      "source": [
        "a = torch.tensor([7.8, 5],device='cuda')\n",
        "type(a)"
      ],
      "execution_count": 18,
      "outputs": [
        {
          "output_type": "execute_result",
          "data": {
            "text/plain": [
              "torch.Tensor"
            ]
          },
          "metadata": {
            "tags": []
          },
          "execution_count": 18
        }
      ]
    },
    {
      "cell_type": "markdown",
      "metadata": {
        "id": "BLD_cexnFQ03",
        "colab_type": "text"
      },
      "source": [
        "####Expected one of cpu, cuda, mkldnn, opengl, opencl, ideep, hip, msnpu device type at start of device string"
      ]
    },
    {
      "cell_type": "code",
      "metadata": {
        "id": "jwm7w_Q6Bwzs",
        "colab_type": "code",
        "colab": {
          "base_uri": "https://localhost:8080/",
          "height": 34
        },
        "outputId": "5ec75094-b35a-4d55-ce34-5e329e3a87a4"
      },
      "source": [
        "a"
      ],
      "execution_count": 14,
      "outputs": [
        {
          "output_type": "execute_result",
          "data": {
            "text/plain": [
              "tensor([7.8000, 5.0000], device='cuda:0')"
            ]
          },
          "metadata": {
            "tags": []
          },
          "execution_count": 14
        }
      ]
    },
    {
      "cell_type": "markdown",
      "metadata": {
        "id": "SsBCRH_Q7lgz",
        "colab_type": "text"
      },
      "source": [
        "or we can create new tensor with existing tensor.These methods we reuse its properties of input tensor, e.g. dtype, unless new values are provided by us."
      ]
    },
    {
      "cell_type": "code",
      "metadata": {
        "id": "q7inC9ujFgcu",
        "colab_type": "code",
        "colab": {
          "base_uri": "https://localhost:8080/",
          "height": 85
        },
        "outputId": "cafd9412-bb0d-4329-ca1c-deac49985dfc"
      },
      "source": [
        "torch.ones([4,5])"
      ],
      "execution_count": 15,
      "outputs": [
        {
          "output_type": "execute_result",
          "data": {
            "text/plain": [
              "tensor([[1., 1., 1., 1., 1.],\n",
              "        [1., 1., 1., 1., 1.],\n",
              "        [1., 1., 1., 1., 1.],\n",
              "        [1., 1., 1., 1., 1.]])"
            ]
          },
          "metadata": {
            "tags": []
          },
          "execution_count": 15
        }
      ]
    },
    {
      "cell_type": "markdown",
      "metadata": {
        "id": "fgfx72FRFn2y",
        "colab_type": "text"
      },
      "source": [
        "If vraibale is already available as tensor, then we have to use new_ones along with tensor"
      ]
    },
    {
      "cell_type": "code",
      "metadata": {
        "id": "2B0PS-Gv7lg3",
        "colab_type": "code",
        "colab": {
          "base_uri": "https://localhost:8080/",
          "height": 221
        },
        "outputId": "7fc486b4-bfa9-4b0c-d9d2-de3f30c2f10f"
      },
      "source": [
        "a = a.new_ones(6,5, dtype=torch.double,device='cpu')    # new methods take in sizes like np.ones\n",
        "print(a)\n",
        "\n",
        "a = torch.randn_like(a, dtype=torch.float)  # override dtype\n",
        "print(a)                                    # result will be the same size"
      ],
      "execution_count": 24,
      "outputs": [
        {
          "output_type": "stream",
          "text": [
            "tensor([[1., 1., 1., 1., 1.],\n",
            "        [1., 1., 1., 1., 1.],\n",
            "        [1., 1., 1., 1., 1.],\n",
            "        [1., 1., 1., 1., 1.],\n",
            "        [1., 1., 1., 1., 1.],\n",
            "        [1., 1., 1., 1., 1.]], dtype=torch.float64)\n",
            "tensor([[ 1.5008, -0.5932, -0.4457, -0.5127,  0.2832],\n",
            "        [ 0.8599,  1.5899,  0.0635,  1.1698,  0.0153],\n",
            "        [ 0.5554,  0.4953, -1.4058, -0.4262, -0.7919],\n",
            "        [-0.8336,  0.0197, -0.7393,  1.2145,  2.0403],\n",
            "        [ 0.4768, -0.8840, -0.2603,  0.0172, -0.4077],\n",
            "        [ 0.9223, -0.8388, -0.7832,  0.0369, -0.1383]])\n"
          ],
          "name": "stdout"
        }
      ]
    },
    {
      "cell_type": "markdown",
      "metadata": {
        "id": "RWFQRbrO7lhE",
        "colab_type": "text"
      },
      "source": [
        "Let's get the size:"
      ]
    },
    {
      "cell_type": "code",
      "metadata": {
        "id": "uy1XbooG7lhH",
        "colab_type": "code",
        "colab": {
          "base_uri": "https://localhost:8080/",
          "height": 34
        },
        "outputId": "6a99fea4-7b8c-423e-9540-e481a696e724"
      },
      "source": [
        "print(a.size())"
      ],
      "execution_count": 21,
      "outputs": [
        {
          "output_type": "stream",
          "text": [
            "torch.Size([6, 5])\n"
          ],
          "name": "stdout"
        }
      ]
    },
    {
      "cell_type": "markdown",
      "metadata": {
        "id": "tWjLBs3l7lhS",
        "colab_type": "text"
      },
      "source": [
        "Note: <mark style=\"background-color: Yellow\">torch_size</mark> is actually a tuple, so it supports all tuple operations."
      ]
    },
    {
      "cell_type": "markdown",
      "metadata": {
        "id": "4kF5QggI7lhU",
        "colab_type": "text"
      },
      "source": [
        "### Operations\n",
        "\n",
        "There are multiple syntaxes for operations. In the following examples, we used addition operation,\n",
        "\n",
        "Addition: syntax1"
      ]
    },
    {
      "cell_type": "code",
      "metadata": {
        "id": "ms2IISdU7lhX",
        "colab_type": "code",
        "colab": {
          "base_uri": "https://localhost:8080/",
          "height": 119
        },
        "outputId": "22885de2-6b61-49ec-db19-a70382ab419a"
      },
      "source": [
        "b = torch.rand(6,5)\n",
        "print(a + b)"
      ],
      "execution_count": 25,
      "outputs": [
        {
          "output_type": "stream",
          "text": [
            "tensor([[ 1.5522, -0.0819,  0.0718,  0.1926,  0.5994],\n",
            "        [ 1.1906,  2.5218,  0.8146,  1.9770,  0.9927],\n",
            "        [ 1.1086,  1.0544, -1.3118, -0.0403,  0.0331],\n",
            "        [-0.4383,  0.8311, -0.0236,  1.4013,  2.9392],\n",
            "        [ 1.1951, -0.6006, -0.0093,  0.4696, -0.3642],\n",
            "        [ 1.2037, -0.0803, -0.5293,  0.0553, -0.1159]])\n"
          ],
          "name": "stdout"
        }
      ]
    },
    {
      "cell_type": "markdown",
      "metadata": {
        "id": "pYEV0-FD7lhk",
        "colab_type": "text"
      },
      "source": [
        "Addition: syntax2"
      ]
    },
    {
      "cell_type": "code",
      "metadata": {
        "id": "IxBCYIkt7lhl",
        "colab_type": "code",
        "colab": {
          "base_uri": "https://localhost:8080/",
          "height": 119
        },
        "outputId": "7a888795-2744-4a40-bc37-f21bc6646380"
      },
      "source": [
        "print(torch.add(a,b))"
      ],
      "execution_count": 26,
      "outputs": [
        {
          "output_type": "stream",
          "text": [
            "tensor([[ 1.5522, -0.0819,  0.0718,  0.1926,  0.5994],\n",
            "        [ 1.1906,  2.5218,  0.8146,  1.9770,  0.9927],\n",
            "        [ 1.1086,  1.0544, -1.3118, -0.0403,  0.0331],\n",
            "        [-0.4383,  0.8311, -0.0236,  1.4013,  2.9392],\n",
            "        [ 1.1951, -0.6006, -0.0093,  0.4696, -0.3642],\n",
            "        [ 1.2037, -0.0803, -0.5293,  0.0553, -0.1159]])\n"
          ],
          "name": "stdout"
        }
      ]
    },
    {
      "cell_type": "markdown",
      "metadata": {
        "id": "54e3n1Ra7lhs",
        "colab_type": "text"
      },
      "source": [
        "Addition: providing an output as an argument"
      ]
    },
    {
      "cell_type": "code",
      "metadata": {
        "id": "d5I1eIij7lhv",
        "colab_type": "code",
        "colab": {
          "base_uri": "https://localhost:8080/",
          "height": 119
        },
        "outputId": "0d975916-5fae-472e-a99b-720f4e7a9341"
      },
      "source": [
        "result = torch.empty(6, 5)\n",
        "torch.add(a, b, out=result)\n",
        "print(result)"
      ],
      "execution_count": 27,
      "outputs": [
        {
          "output_type": "stream",
          "text": [
            "tensor([[ 1.5522, -0.0819,  0.0718,  0.1926,  0.5994],\n",
            "        [ 1.1906,  2.5218,  0.8146,  1.9770,  0.9927],\n",
            "        [ 1.1086,  1.0544, -1.3118, -0.0403,  0.0331],\n",
            "        [-0.4383,  0.8311, -0.0236,  1.4013,  2.9392],\n",
            "        [ 1.1951, -0.6006, -0.0093,  0.4696, -0.3642],\n",
            "        [ 1.2037, -0.0803, -0.5293,  0.0553, -0.1159]])\n"
          ],
          "name": "stdout"
        }
      ]
    },
    {
      "cell_type": "markdown",
      "metadata": {
        "id": "wY88AScIIZXN",
        "colab_type": "text"
      },
      "source": [
        "#### Out option only available in pytorch"
      ]
    },
    {
      "cell_type": "markdown",
      "metadata": {
        "id": "AC7AS2pr7lh8",
        "colab_type": "text"
      },
      "source": [
        "Addition: in place"
      ]
    },
    {
      "cell_type": "code",
      "metadata": {
        "id": "22kl-cq57lh-",
        "colab_type": "code",
        "colab": {
          "base_uri": "https://localhost:8080/",
          "height": 119
        },
        "outputId": "b14d7350-c123-42df-ad3c-2eccaa268099"
      },
      "source": [
        "# adds a to b\n",
        "b.add_(a)\n",
        "print(b)"
      ],
      "execution_count": 28,
      "outputs": [
        {
          "output_type": "stream",
          "text": [
            "tensor([[ 1.5522, -0.0819,  0.0718,  0.1926,  0.5994],\n",
            "        [ 1.1906,  2.5218,  0.8146,  1.9770,  0.9927],\n",
            "        [ 1.1086,  1.0544, -1.3118, -0.0403,  0.0331],\n",
            "        [-0.4383,  0.8311, -0.0236,  1.4013,  2.9392],\n",
            "        [ 1.1951, -0.6006, -0.0093,  0.4696, -0.3642],\n",
            "        [ 1.2037, -0.0803, -0.5293,  0.0553, -0.1159]])\n"
          ],
          "name": "stdout"
        }
      ]
    },
    {
      "cell_type": "markdown",
      "metadata": {
        "id": "-IpWOeU_7liH",
        "colab_type": "text"
      },
      "source": [
        "__Note:__ Any operation that mutates a tensor in-place is post-fixed with an <mark style=\"background-color: red\">_.</mark> For example: a.copy_(b), a.b_(), will change a."
      ]
    },
    {
      "cell_type": "markdown",
      "metadata": {
        "id": "W-GH0XC37liJ",
        "colab_type": "text"
      },
      "source": [
        "We can use standard NumPy-like indexing with all bells and whistles!"
      ]
    },
    {
      "cell_type": "code",
      "metadata": {
        "id": "Fs7jBgS77liL",
        "colab_type": "code",
        "colab": {
          "base_uri": "https://localhost:8080/",
          "height": 34
        },
        "outputId": "7d0e54e7-f4ff-4211-87c0-77d1f104fffb"
      },
      "source": [
        "print(a[:,2])"
      ],
      "execution_count": 29,
      "outputs": [
        {
          "output_type": "stream",
          "text": [
            "tensor([-0.4457,  0.0635, -1.4058, -0.7393, -0.2603, -0.7832])\n"
          ],
          "name": "stdout"
        }
      ]
    },
    {
      "cell_type": "markdown",
      "metadata": {
        "id": "D5EPfRDO7liX",
        "colab_type": "text"
      },
      "source": [
        "Resizing: We can resize or reshape tensor, use <mark style=\"background-color: Yellow\">tensor.view</mark> for that:"
      ]
    },
    {
      "cell_type": "code",
      "metadata": {
        "id": "S3tJQZJd7liZ",
        "colab_type": "code",
        "colab": {
          "base_uri": "https://localhost:8080/",
          "height": 34
        },
        "outputId": "b6a9d88a-c0f2-4350-baa5-18798493c21f"
      },
      "source": [
        "a = torch.randn(3, 3)\n",
        "b = a.view(9)\n",
        "c = a.view(-1, 9)  # the size -1 is inferred from other dimensions\n",
        "print(a.size(), b.size(), c.size())"
      ],
      "execution_count": 35,
      "outputs": [
        {
          "output_type": "stream",
          "text": [
            "torch.Size([3, 3]) torch.Size([9]) torch.Size([1, 9])\n"
          ],
          "name": "stdout"
        }
      ]
    },
    {
      "cell_type": "code",
      "metadata": {
        "id": "2AREmCVIJew2",
        "colab_type": "code",
        "colab": {
          "base_uri": "https://localhost:8080/",
          "height": 68
        },
        "outputId": "63ba3e33-d3f7-425f-d853-0939e8aaba8a"
      },
      "source": [
        "a"
      ],
      "execution_count": 36,
      "outputs": [
        {
          "output_type": "execute_result",
          "data": {
            "text/plain": [
              "tensor([[ 0.8800,  0.4865, -0.4182],\n",
              "        [-0.3180, -0.4101,  0.4277],\n",
              "        [-0.0559,  0.9346, -0.5976]])"
            ]
          },
          "metadata": {
            "tags": []
          },
          "execution_count": 36
        }
      ]
    },
    {
      "cell_type": "code",
      "metadata": {
        "id": "Z6CTKoSJJgoC",
        "colab_type": "code",
        "colab": {
          "base_uri": "https://localhost:8080/",
          "height": 51
        },
        "outputId": "b5fe9310-fe1b-426d-c9d3-5dec0b306859"
      },
      "source": [
        "b"
      ],
      "execution_count": 37,
      "outputs": [
        {
          "output_type": "execute_result",
          "data": {
            "text/plain": [
              "tensor([ 0.8800,  0.4865, -0.4182, -0.3180, -0.4101,  0.4277, -0.0559,  0.9346,\n",
              "        -0.5976])"
            ]
          },
          "metadata": {
            "tags": []
          },
          "execution_count": 37
        }
      ]
    },
    {
      "cell_type": "code",
      "metadata": {
        "id": "ANmO9uyJJmew",
        "colab_type": "code",
        "colab": {
          "base_uri": "https://localhost:8080/",
          "height": 51
        },
        "outputId": "f1083e04-12b8-4de7-b171-ab88fa025d59"
      },
      "source": [
        "c"
      ],
      "execution_count": 38,
      "outputs": [
        {
          "output_type": "execute_result",
          "data": {
            "text/plain": [
              "tensor([[ 0.8800,  0.4865, -0.4182, -0.3180, -0.4101,  0.4277, -0.0559,  0.9346,\n",
              "         -0.5976]])"
            ]
          },
          "metadata": {
            "tags": []
          },
          "execution_count": 38
        }
      ]
    },
    {
      "cell_type": "markdown",
      "metadata": {
        "id": "86qmekQd7lih",
        "colab_type": "text"
      },
      "source": [
        "If you have one value tensor, use <mark style=\"background-color: Yellow\">.item()</mark> to get the value of the Python number"
      ]
    },
    {
      "cell_type": "code",
      "metadata": {
        "id": "8EGfn1KS7lil",
        "colab_type": "code",
        "colab": {
          "base_uri": "https://localhost:8080/",
          "height": 51
        },
        "outputId": "8d108804-fbd9-497e-eaf3-afe16707106d"
      },
      "source": [
        "a = torch.randn(1)\n",
        "print(a)\n",
        "print(a.item())"
      ],
      "execution_count": 39,
      "outputs": [
        {
          "output_type": "stream",
          "text": [
            "tensor([0.8217])\n",
            "0.8216512799263\n"
          ],
          "name": "stdout"
        }
      ]
    },
    {
      "cell_type": "markdown",
      "metadata": {
        "id": "BaImAOeo7liv",
        "colab_type": "text"
      },
      "source": [
        "### NumPy Bridge\n",
        "\n",
        "Converting a Torch Tensor to NumPy array and vice versa is breeze.\n",
        "\n",
        "The Torch Tensor and NumPy array will share their underlying memory locations (if the Torch Tensor is on CPU), and changing one will change the other."
      ]
    },
    {
      "cell_type": "markdown",
      "metadata": {
        "id": "47USdhF27liz",
        "colab_type": "text"
      },
      "source": [
        "__Converting a Torch tensor to NumPy array__"
      ]
    },
    {
      "cell_type": "code",
      "metadata": {
        "id": "OO0cnkCI7li1",
        "colab_type": "code",
        "colab": {
          "base_uri": "https://localhost:8080/",
          "height": 34
        },
        "outputId": "883d4886-e6c9-48c9-b299-35a85f691c0c"
      },
      "source": [
        "x = torch.ones(4)\n",
        "print(x)"
      ],
      "execution_count": 44,
      "outputs": [
        {
          "output_type": "stream",
          "text": [
            "tensor([1., 1., 1., 1.])\n"
          ],
          "name": "stdout"
        }
      ]
    },
    {
      "cell_type": "code",
      "metadata": {
        "id": "_vKUOAAA7li9",
        "colab_type": "code",
        "colab": {
          "base_uri": "https://localhost:8080/",
          "height": 34
        },
        "outputId": "d935e39e-687b-43bb-b59b-2ed82aa60802"
      },
      "source": [
        "y = x.numpy()\n",
        "print(y)"
      ],
      "execution_count": 45,
      "outputs": [
        {
          "output_type": "stream",
          "text": [
            "[1. 1. 1. 1.]\n"
          ],
          "name": "stdout"
        }
      ]
    },
    {
      "cell_type": "markdown",
      "metadata": {
        "id": "8yXOm4qE7ljH",
        "colab_type": "text"
      },
      "source": [
        "See how numpy array changed in value"
      ]
    },
    {
      "cell_type": "code",
      "metadata": {
        "id": "iI7Q7G4V7ljJ",
        "colab_type": "code",
        "colab": {
          "base_uri": "https://localhost:8080/",
          "height": 51
        },
        "outputId": "d253570d-7828-47e2-e1e4-c0a344f8e4c1"
      },
      "source": [
        "x.add_(1)\n",
        "print(x)\n",
        "print(y)"
      ],
      "execution_count": 46,
      "outputs": [
        {
          "output_type": "stream",
          "text": [
            "tensor([2., 2., 2., 2.])\n",
            "[2. 2. 2. 2.]\n"
          ],
          "name": "stdout"
        }
      ]
    },
    {
      "cell_type": "code",
      "metadata": {
        "id": "uXprkFwrKVOK",
        "colab_type": "code",
        "colab": {
          "base_uri": "https://localhost:8080/",
          "height": 34
        },
        "outputId": "d1271ca3-e946-4da8-bdab-645a471c6e13"
      },
      "source": [
        "a =torch.tensor([1,4,6,8])#convert python list to tensor variable\n",
        "a"
      ],
      "execution_count": 47,
      "outputs": [
        {
          "output_type": "execute_result",
          "data": {
            "text/plain": [
              "tensor([1, 4, 6, 8])"
            ]
          },
          "metadata": {
            "tags": []
          },
          "execution_count": 47
        }
      ]
    },
    {
      "cell_type": "markdown",
      "metadata": {
        "id": "W6lRCciz7ljR",
        "colab_type": "text"
      },
      "source": [
        "__Converting NumPy array to Torch tensor__"
      ]
    },
    {
      "cell_type": "markdown",
      "metadata": {
        "id": "V2BoyO1U7ljW",
        "colab_type": "text"
      },
      "source": [
        "lets see how changing the numpy array changed the Torch Tensor automatically"
      ]
    },
    {
      "cell_type": "code",
      "metadata": {
        "id": "nQ1nE1UH7ljX",
        "colab_type": "code",
        "colab": {
          "base_uri": "https://localhost:8080/",
          "height": 51
        },
        "outputId": "87b2105c-6e68-4425-dee1-ddd37fde74ae"
      },
      "source": [
        "import numpy as np\n",
        "f = np.ones(4)\n",
        "g = torch.from_numpy(f)\n",
        "np.add(f, 1, out=f)\n",
        "print(f)\n",
        "print(g)"
      ],
      "execution_count": 48,
      "outputs": [
        {
          "output_type": "stream",
          "text": [
            "[2. 2. 2. 2.]\n",
            "tensor([2., 2., 2., 2.], dtype=torch.float64)\n"
          ],
          "name": "stdout"
        }
      ]
    },
    {
      "cell_type": "markdown",
      "metadata": {
        "id": "jvfbKyNe7lje",
        "colab_type": "text"
      },
      "source": [
        "All the Tensors on the CPU except a CharTensor support converting to NumPy and back.\n",
        "\n",
        "__CUDA Tensors__\n",
        "\n",
        "Tensors can be moved onto any device using the <mark style=\"background-color: Yellow\">.to</mark> method."
      ]
    },
    {
      "cell_type": "code",
      "metadata": {
        "id": "2knajyKI7ljg",
        "colab_type": "code",
        "colab": {
          "base_uri": "https://localhost:8080/",
          "height": 51
        },
        "outputId": "30225874-13e6-4149-96f5-4ccab9e1383f"
      },
      "source": [
        "# let us run this cell only if CUDA is available\n",
        "# We will use ``torch.device`` objects to move tensors in and out of GPU\n",
        "if torch.cuda.is_available():\n",
        "    device = torch.device(\"cuda\")          # a CUDA device object\n",
        "    y = torch.ones_like(x, device=device)  # directly create a tensor on GPU\n",
        "    x = x.to(device)                       # or just use strings ``.to(\"cuda\")``\n",
        "    z = x + y\n",
        "    print(z)\n",
        "    print(z.to(\"cpu\", torch.double))       # ``.to`` can also change dtype together!\n",
        "else:\n",
        "  print('device not available')"
      ],
      "execution_count": 50,
      "outputs": [
        {
          "output_type": "stream",
          "text": [
            "tensor([3., 3., 3., 3.], device='cuda:0')\n",
            "tensor([3., 3., 3., 3.], dtype=torch.float64)\n"
          ],
          "name": "stdout"
        }
      ]
    },
    {
      "cell_type": "markdown",
      "metadata": {
        "id": "Bh61LDZC7ljq",
        "colab_type": "text"
      },
      "source": [
        "## AUTOGRAD : Automatic Differentiaition"
      ]
    },
    {
      "cell_type": "markdown",
      "metadata": {
        "id": "XTDcmwiv7ljr",
        "colab_type": "text"
      },
      "source": [
        "Definition - \n",
        "\n",
        "  - This class is an engine to calculate derivatives. It records the graph of all the operations performed on a gradient      enabled tensor and creates a acyclic graph called the dynamic computational graph(DCG).The leaves of this graph are input tensors and the roots are output tensors. Gradients are calculated by tracing the graph from the root to the leaf and multiplying every gradient in the way using the chain rule."
      ]
    },
    {
      "cell_type": "markdown",
      "metadata": {
        "id": "s5GEGIK57lju",
        "colab_type": "text"
      },
      "source": [
        "Let us see this in some more easy terms with some examples"
      ]
    },
    {
      "cell_type": "markdown",
      "metadata": {
        "id": "9Vak25Fn7ljy",
        "colab_type": "text"
      },
      "source": [
        "## Tensor\n",
        "\n",
        "<mark style=\"background-color: Yellow\">torch.Tensor</mark> is the central class of the package.If we set its attribute <mark style=\"background-color: Yellow\">.requires_grad</mark> as <mark style=\"background-color: dark grey\">True</mark>, it starts to track all operations on it. When you finish your computation you can call <mark style=\"background-color: Yellow\">.backward()</mark> and have all the gradients computed automatically. The gradient of this tensor will be accumulated into <mark style=\"background-color: Yellow\">.grad</mark> attribute."
      ]
    },
    {
      "cell_type": "markdown",
      "metadata": {
        "id": "0ladkx2X7lj1",
        "colab_type": "text"
      },
      "source": [
        "To stop a tensor from tracking history, you can call <mark style=\"background-color: Yellow\">.detach()</mark> to detach it from the computation history, and to prevent future computation from being tracked.\n",
        "\n",
        "\n",
        "To prevent tracking history(and using memory), you can also wrap the code block in with <mark style=\"background-color: Yellow\">torch.no_grad():</mark>. This can be particularly helpful when evaluating a model because the model may have trainable parameters with <mark style=\"background-color: Yellow\">requires_grad=True</mark>, but for which we don’t need the gradients.\n",
        "\n",
        "There's one more class which is very important in autograd implementation - a <mark style=\"background-color: Yellow\">Function</mark>\n",
        "\n",
        "<mark style=\"background-color: Yellow\">Tensor</mark> and <mark style=\"background-color: Yellow\">Function</mark> are interconnected and build up an acyclic graph, that encodes a complete history of computation. Each tensor has a <mark style=\"background-color: Yellow\">.grad_fn</mark> attribute that references a Function that has created the Tensor (except for Tensors created by the user - their <mark style=\"background-color: Yellow\">grad_fn is None</mark>).\n",
        "\n",
        "If you want to compute the derivatives, you can call <mark style=\"background-color: Yellow\">.backward()</mark> on a <mark style=\"background-color: Yellow\">Tensor</mark>. If <mark style=\"background-color: Yellow\">Tensor</mark> is a scalar (i.e. it holds a one element data), you don’t need to specify any arguments to <mark style=\"background-color: Yellow\">backward()</mark>, however if it has more elements, you need to specify a <mark style=\"background-color: Yellow\">gradient</mark> argument that is a tensor of matching shape."
      ]
    },
    {
      "cell_type": "code",
      "metadata": {
        "id": "wPUwgKIm7lj5",
        "colab_type": "code",
        "colab": {}
      },
      "source": [
        "import torch"
      ],
      "execution_count": 0,
      "outputs": []
    },
    {
      "cell_type": "markdown",
      "metadata": {
        "id": "P_ORo_j-7lkD",
        "colab_type": "text"
      },
      "source": [
        "Create a tensor and set requires_grad=True to track computation with it."
      ]
    },
    {
      "cell_type": "code",
      "metadata": {
        "id": "y0bZL32_7lkI",
        "colab_type": "code",
        "colab": {
          "base_uri": "https://localhost:8080/",
          "height": 51
        },
        "outputId": "591baf5d-34fa-4fd3-dcf9-f482820b77a4"
      },
      "source": [
        "a = torch.ones(2, 2, requires_grad=True)\n",
        "print(a)"
      ],
      "execution_count": 52,
      "outputs": [
        {
          "output_type": "stream",
          "text": [
            "tensor([[1., 1.],\n",
            "        [1., 1.]], requires_grad=True)\n"
          ],
          "name": "stdout"
        }
      ]
    },
    {
      "cell_type": "markdown",
      "metadata": {
        "id": "NhPi4pI-7lkQ",
        "colab_type": "text"
      },
      "source": [
        "Do a tensor operation:"
      ]
    },
    {
      "cell_type": "code",
      "metadata": {
        "id": "lzU_5BZ77lkT",
        "colab_type": "code",
        "colab": {
          "base_uri": "https://localhost:8080/",
          "height": 51
        },
        "outputId": "e9ef2c39-c5c8-405f-b5ed-da598e9a5574"
      },
      "source": [
        "b = a + 2\n",
        "print(b)"
      ],
      "execution_count": 53,
      "outputs": [
        {
          "output_type": "stream",
          "text": [
            "tensor([[3., 3.],\n",
            "        [3., 3.]], grad_fn=<AddBackward0>)\n"
          ],
          "name": "stdout"
        }
      ]
    },
    {
      "cell_type": "markdown",
      "metadata": {
        "id": "LUjG-pWi7lkh",
        "colab_type": "text"
      },
      "source": [
        "b was created as a result of an operatio, so it has a <mark style=\"background-color: Yellow\">grad_fn</mark>"
      ]
    },
    {
      "cell_type": "code",
      "metadata": {
        "id": "h18f3v1n7lkk",
        "colab_type": "code",
        "colab": {
          "base_uri": "https://localhost:8080/",
          "height": 34
        },
        "outputId": "72bb1a6b-c1ec-4557-f4d6-5b372af9b97a"
      },
      "source": [
        "print(b.grad_fn)"
      ],
      "execution_count": 54,
      "outputs": [
        {
          "output_type": "stream",
          "text": [
            "<AddBackward0 object at 0x7f8bc86eb400>\n"
          ],
          "name": "stdout"
        }
      ]
    },
    {
      "cell_type": "markdown",
      "metadata": {
        "id": "-VkomYoT7lkw",
        "colab_type": "text"
      },
      "source": [
        "Do more operation on b"
      ]
    },
    {
      "cell_type": "code",
      "metadata": {
        "id": "2MnCGTIW7lky",
        "colab_type": "code",
        "colab": {
          "base_uri": "https://localhost:8080/",
          "height": 51
        },
        "outputId": "52eea3f8-427e-4ed8-f02e-578256f85249"
      },
      "source": [
        "c = b * b * 3\n",
        "out = c.mean()\n",
        "\n",
        "print(c, out)"
      ],
      "execution_count": 55,
      "outputs": [
        {
          "output_type": "stream",
          "text": [
            "tensor([[27., 27.],\n",
            "        [27., 27.]], grad_fn=<MulBackward0>) tensor(27., grad_fn=<MeanBackward0>)\n"
          ],
          "name": "stdout"
        }
      ]
    },
    {
      "cell_type": "markdown",
      "metadata": {
        "id": "hEEZabvD7llC",
        "colab_type": "text"
      },
      "source": [
        "<mark style=\"background-color: Yellow\">.requires_grad_( ... )</mark>  changes an existing Tensor’s <mark style=\"background-color: Yellow\">requires_grad</mark> flag in-place. The input flag defaults to False if not given."
      ]
    },
    {
      "cell_type": "code",
      "metadata": {
        "id": "9wCNgjqR7llE",
        "colab_type": "code",
        "colab": {},
        "outputId": "e060196a-8650-4bb5-9bce-a379be262e7e"
      },
      "source": [
        "p = torch.randn(3, 3)\n",
        "p = ((p * 3) / (p - 1))\n",
        "print(p.requires_grad)\n",
        "p.requires_grad_(True)\n",
        "print(p.requires_grad)\n",
        "q = (p * p).sum()\n",
        "print(q.grad_fn)"
      ],
      "execution_count": 0,
      "outputs": [
        {
          "output_type": "stream",
          "text": [
            "False\n",
            "True\n",
            "<SumBackward0 object at 0x000002A19C7E04E0>\n"
          ],
          "name": "stdout"
        }
      ]
    },
    {
      "cell_type": "markdown",
      "metadata": {
        "id": "tlv6tGA17llP",
        "colab_type": "text"
      },
      "source": [
        "## Gradients\n",
        "\n",
        "Let's backdrop now. Because <mark style=\"background-color: magenta\">out</mark> contains a single scalar, <mark style=\"background-color: Yellow\">out.backword</mark> is equivalent to  <mark style=\"background-color: Yellow\">out.backward(torch.tensor(1.))</mark>. "
      ]
    },
    {
      "cell_type": "code",
      "metadata": {
        "id": "2UTdBhl37llS",
        "colab_type": "code",
        "colab": {}
      },
      "source": [
        "out.backward()"
      ],
      "execution_count": 0,
      "outputs": []
    },
    {
      "cell_type": "markdown",
      "metadata": {
        "id": "H6AdrZIh7lld",
        "colab_type": "text"
      },
      "source": [
        "Print gradients d(out)/dx"
      ]
    },
    {
      "cell_type": "code",
      "metadata": {
        "id": "qeyXGHyd7llg",
        "colab_type": "code",
        "colab": {},
        "outputId": "123b54f0-c210-4cac-fb4a-e12db861c3cd"
      },
      "source": [
        "print(a.grad)"
      ],
      "execution_count": 0,
      "outputs": [
        {
          "output_type": "stream",
          "text": [
            "tensor([[4.5000, 4.5000],\n",
            "        [4.5000, 4.5000]])\n"
          ],
          "name": "stdout"
        }
      ]
    },
    {
      "cell_type": "markdown",
      "metadata": {
        "id": "vzJOctJM7llr",
        "colab_type": "text"
      },
      "source": [
        "You should have got a matrix of 4.5. Let’s call the out Tensor “o”. We have that \n",
        "\n",
        "$o= \\frac{1}{4} \\sum c_i $ $c_i= 3(a_i+2)^2$  and $c_i|_{a_i=1}= 27$ . \n",
        "\n",
        "Therefore, $\\frac{\\partial_0}{\\partial a_i}=\\frac{3(x_i+2)}{2}$, \n",
        "\n",
        "hence\n",
        "$\\frac{\\partial_0}{\\partial a_i}|_{a_i=1} = \\frac{9}{2} = 4.5$\n",
        "\n"
      ]
    },
    {
      "cell_type": "markdown",
      "metadata": {
        "id": "E-kdQQKm7llw",
        "colab_type": "text"
      },
      "source": [
        "### Mathematically - Jacobians and vectors\n",
        "\n",
        "Mathematically, the autograd class is just a Jacobian-vector product computing engine. A Jacobian matrix in very simple words is a matrix representing all the possible partial derivatives of two vectors. It’s the gradient of a vector with respect to another vector.\n",
        "\n",
        "If a vector X = [x1, x2,….xn] is used to calculate some other vector f(X) = [f1, f2, …. fn] through a function f then the Jacobian matrix (J) simply contains all the partial derivative combinations as follows:\n",
        "\n",
        "<img src=\"jacobian-vector.png\">\n",
        "\n",
        "Above matrix represents the gradient of f(X)with respect to X\n",
        "Suppose a PyTorch gradient enabled tensors X as:\n",
        "X = [x1, x2, ….. xn] (Let this be the weights of some machine learning model)\n",
        "X undergoes some operations to form a vector Y\n",
        "Y = f(X) = [y1, y2, …. ym]\n",
        "Y is then used to calculate a scalar loss l. Suppose a vector v happens to be the gradient of the scalar loss l with respect the vector Y as follows\n",
        "\n",
        "<img src=\"jacob1.png\">       *The vector v is called the grad_tensor and passed to the backward() function as an argument*\n",
        "\n",
        "To get the gradient of the loss l with respect to the weights X the Jacobian matrix J is vector-multiplied with the vector v.\n",
        "\n",
        "<img src=\"jac1.png\"> \n",
        "\n",
        "This method of calculating the Jacobian matrix and multiplying it with a vector v enables the possibility for PyTorch to feed external gradients with ease for even the non-scalar outputs."
      ]
    },
    {
      "cell_type": "markdown",
      "metadata": {
        "id": "ekCqgTks7llz",
        "colab_type": "text"
      },
      "source": [
        "Now let's have a look at an example of vector-Jacobian product:"
      ]
    },
    {
      "cell_type": "code",
      "metadata": {
        "id": "WGDKqYS77ll1",
        "colab_type": "code",
        "colab": {},
        "outputId": "0fa30cdf-f1f3-4d5a-f582-02de5ad87a30"
      },
      "source": [
        "x = torch.randn(3, requires_grad=True)\n",
        "\n",
        "y = x * 2\n",
        "while y.data.norm() < 1000:\n",
        "    y = y * 2\n",
        "\n",
        "print(y)"
      ],
      "execution_count": 0,
      "outputs": [
        {
          "output_type": "stream",
          "text": [
            "tensor([  622.1337,  1041.7932, -1389.5249], grad_fn=<MulBackward0>)\n"
          ],
          "name": "stdout"
        }
      ]
    },
    {
      "cell_type": "markdown",
      "metadata": {
        "id": "f151o_5q7lmV",
        "colab_type": "text"
      },
      "source": [
        "Now in this case y is no longer a scalar.<mark style=\"background-color: Yellow\">torch.autograd(torch.tensor(1.))</mark> could not compute the full Jacobian directly, but if we just want the vector-Jacobian product, simply pass the vector to backward as argument:"
      ]
    },
    {
      "cell_type": "code",
      "metadata": {
        "id": "5M7gy34V7lmW",
        "colab_type": "code",
        "colab": {},
        "outputId": "d61524ad-7214-47a9-a301-7a1b1a0a030b"
      },
      "source": [
        "v = torch.tensor([0.1, 1.0, 0.0001], dtype=torch.float)\n",
        "y.backward(v)\n",
        "\n",
        "print(x.grad)"
      ],
      "execution_count": 0,
      "outputs": [
        {
          "output_type": "stream",
          "text": [
            "tensor([2.0480e+02, 2.0480e+03, 2.0480e-01])\n"
          ],
          "name": "stdout"
        }
      ]
    },
    {
      "cell_type": "markdown",
      "metadata": {
        "id": "DYaALHeF7lmm",
        "colab_type": "text"
      },
      "source": [
        "You can also stop autograd from tracking history on Tensors with <mark style=\"background-color: Yellow\">.requires_grad=True</mark> either by wrapping the code block in with <mark style=\"background-color: Yellow\">torch.no_grad()</mark>:"
      ]
    },
    {
      "cell_type": "code",
      "metadata": {
        "id": "ZUYuWSvC7lmo",
        "colab_type": "code",
        "colab": {},
        "outputId": "60e8fb30-e09e-4720-e719-5123d61ed405"
      },
      "source": [
        "print(x.requires_grad)\n",
        "print((x ** 2).requires_grad)\n",
        "\n",
        "with torch.no_grad():\n",
        "    print((x ** 2).requires_grad)"
      ],
      "execution_count": 0,
      "outputs": [
        {
          "output_type": "stream",
          "text": [
            "True\n",
            "True\n",
            "False\n"
          ],
          "name": "stdout"
        }
      ]
    },
    {
      "cell_type": "markdown",
      "metadata": {
        "id": "m9A5Dxck7lm4",
        "colab_type": "text"
      },
      "source": [
        "Or by using .detach() to get a new Tensor with the same content but that does not require gradients:"
      ]
    },
    {
      "cell_type": "code",
      "metadata": {
        "id": "x4gjFzRN7lm6",
        "colab_type": "code",
        "colab": {},
        "outputId": "f0256ca9-8579-4e38-aa12-ec56427ac6c9"
      },
      "source": [
        "print(x.requires_grad)\n",
        "y = x.detach()\n",
        "print(y.requires_grad)\n",
        "print(x.eq(y).all())"
      ],
      "execution_count": 0,
      "outputs": [
        {
          "output_type": "stream",
          "text": [
            "True\n",
            "False\n",
            "tensor(True)\n"
          ],
          "name": "stdout"
        }
      ]
    },
    {
      "cell_type": "markdown",
      "metadata": {
        "id": "G8aFBx6B7lnG",
        "colab_type": "text"
      },
      "source": [
        "## Neural Networks\n",
        "\n",
        "We can construct neural networks using the <mark style=\"background-color: Yellow\">torch.nn</mark> package.\n",
        "\n",
        "Now that you had a glimpse of autograd, nn depends on autograd to define models and differentiate them. An nn.Module contains layers, and a method forward(input)that returns the output.\n",
        "\n",
        "For example, look at this network that classifies digit images:\n",
        "<img src=\"neural.png\"> \n",
        "\n",
        "\n",
        "### convnet\n",
        "\n",
        "It is a simple feed-forward network. It takes the input,feeds it through several layers one after the other, and then finally gives the output.\n",
        "\n",
        "A typical training procedure for a neural network is as follows:\n",
        "- Define the neural network that has some learnable parameters (or weights)\n",
        "- Iterate over a dataset of inputs\n",
        "- Process input through the network\n",
        "- Compute the loss (how far is the output from being correct)\n",
        "- Propagate gradients back into the network’s parameters\n",
        "- Update the weights of the network, typically using a simple update rule: <mark style=\"background-color: light-blue\">weight = weight - learning_rate * gradient</mark>\n",
        "        \n",
        "### Define the network\n",
        "\n",
        "Let's define the network:"
      ]
    },
    {
      "cell_type": "code",
      "metadata": {
        "id": "SzKVhq457lnH",
        "colab_type": "code",
        "colab": {},
        "outputId": "87881f12-0312-48f2-b5ca-332ffeb2ae2d"
      },
      "source": [
        "import torch\n",
        "import torch.nn as nn\n",
        "import torch.nn.functional as F\n",
        "\n",
        "\n",
        "class network(nn.Module):\n",
        "\n",
        "    def __init__(self):\n",
        "        super(network, self).__init__()\n",
        "        # 1 input image channel, 6 output channels, 3x3 square convolution\n",
        "        # kernel\n",
        "        self.conv1 = nn.Conv2d(1, 6, 3)\n",
        "        self.conv2 = nn.Conv2d(6, 16, 3)\n",
        "        # an affine operation: y = mx + b\n",
        "        self.fc1 = nn.Linear(16 * 6 * 6, 120)  # 6*6 from image dimension\n",
        "        self.fc2 = nn.Linear(120, 84)\n",
        "        self.fc3 = nn.Linear(84, 10)\n",
        "\n",
        "    def forward(self, x):\n",
        "        # Max pooling over a (2, 2) window\n",
        "        x = F.max_pool2d(F.relu(self.conv1(x)), (2, 2))\n",
        "        # If the size is a square you can only specify a single number\n",
        "        x = F.max_pool2d(F.relu(self.conv2(x)), 2)\n",
        "        x = x.view(-1, self.num_flat_features(x))\n",
        "        x = F.relu(self.fc1(x))\n",
        "        x = F.relu(self.fc2(x))\n",
        "        x = self.fc3(x)\n",
        "        return x\n",
        "\n",
        "    def num_flat_features(self, x):\n",
        "        size = x.size()[1:]  # all dimensions except the batch dimension\n",
        "        num_features = 1\n",
        "        for s in size:\n",
        "            num_features *= s\n",
        "        return num_features\n",
        "\n",
        "\n",
        "net = network()\n",
        "print(net)"
      ],
      "execution_count": 0,
      "outputs": [
        {
          "output_type": "stream",
          "text": [
            "network(\n",
            "  (conv1): Conv2d(1, 6, kernel_size=(3, 3), stride=(1, 1))\n",
            "  (conv2): Conv2d(6, 16, kernel_size=(3, 3), stride=(1, 1))\n",
            "  (fc1): Linear(in_features=576, out_features=120, bias=True)\n",
            "  (fc2): Linear(in_features=120, out_features=84, bias=True)\n",
            "  (fc3): Linear(in_features=84, out_features=10, bias=True)\n",
            ")\n"
          ],
          "name": "stdout"
        }
      ]
    },
    {
      "cell_type": "markdown",
      "metadata": {
        "id": "9lkXRj0A7lnP",
        "colab_type": "text"
      },
      "source": [
        "You just have to define the <mark style=\"background-color: yellow\">forward</mark>,  and the <mark style=\"background-color: yellow\">backward</mark> function (where gradients are computed) is automatically defined for you using autograd. You can use any of the Tensor operations in the <mark style=\"background-color: yellow\">forward</mark> function.\n",
        "\n",
        "The learnable parameters of a model are returned by <mark style=\"background-color: yellow\">net.parameters()</mark>."
      ]
    },
    {
      "cell_type": "code",
      "metadata": {
        "id": "hPLoJUuG7lnS",
        "colab_type": "code",
        "colab": {},
        "outputId": "31540ec3-6eb5-4643-da37-0e6370fbd1e6"
      },
      "source": [
        "params = list(net.parameters())\n",
        "print(len(params))\n",
        "print(params[0].size())  # conv1's .weight"
      ],
      "execution_count": 0,
      "outputs": [
        {
          "output_type": "stream",
          "text": [
            "10\n",
            "torch.Size([6, 1, 3, 3])\n"
          ],
          "name": "stdout"
        }
      ]
    },
    {
      "cell_type": "markdown",
      "metadata": {
        "id": "z_AvtcLq7lnj",
        "colab_type": "text"
      },
      "source": [
        "Let’s try a random 32x32 input. Note: expected input size of this net (LeNet) is 32x32. To use this net on the MNIST dataset, please resize the images from the dataset to 32x32."
      ]
    },
    {
      "cell_type": "code",
      "metadata": {
        "id": "PQqd1yQB7lnm",
        "colab_type": "code",
        "colab": {},
        "outputId": "2020de1b-ea6a-4b7d-df37-51acfcacafee"
      },
      "source": [
        "inp = torch.randn(1, 1, 32, 32)\n",
        "out = net(inp)\n",
        "print(out)"
      ],
      "execution_count": 0,
      "outputs": [
        {
          "output_type": "stream",
          "text": [
            "tensor([[ 0.0746, -0.0389, -0.0148, -0.0516, -0.0599,  0.1114, -0.0071, -0.0573,\n",
            "         -0.0589, -0.1054]], grad_fn=<AddmmBackward>)\n"
          ],
          "name": "stdout"
        }
      ]
    },
    {
      "cell_type": "markdown",
      "metadata": {
        "id": "8uiIFLYH7lny",
        "colab_type": "text"
      },
      "source": [
        "Zero the gradient buffers of all parameters and backprops with random gradients:"
      ]
    },
    {
      "cell_type": "code",
      "metadata": {
        "id": "LwmMgQ7p7ln3",
        "colab_type": "code",
        "colab": {}
      },
      "source": [
        "net.zero_grad()\n",
        "out.backward(torch.randn(1, 10))"
      ],
      "execution_count": 0,
      "outputs": []
    },
    {
      "cell_type": "markdown",
      "metadata": {
        "id": "KD4OT_Vk7loI",
        "colab_type": "text"
      },
      "source": [
        "__Note:__\n",
        "<mark style=\"background-color: yellow\">torch.nn</mark> only supports mini-batches. The entire <mark style=\"background-color: yellow\">torch.nn</mark> package only supports inputs that are a mini-batch of samples, and not a single sample.\n",
        "For example, <mark style=\"background-color: yellow\">nn.Conv2d</mark> will take in a 4D Tensor of <mark style=\"background-color: yellow\">nSamples x nChannels x Height x Width</mark>.\n",
        "If you have a single sample, just use <mark style=\"background-color: yellow\">input.unsqueeze(0)</mark> to add a fake batch dimension."
      ]
    },
    {
      "cell_type": "markdown",
      "metadata": {
        "id": "HaBuFcX37loJ",
        "colab_type": "text"
      },
      "source": [
        "__At this point, we covered:__\n",
        "- Defined neutral network\n",
        "- Processing input and calling backward"
      ]
    },
    {
      "cell_type": "markdown",
      "metadata": {
        "id": "5fA8HMVG7loL",
        "colab_type": "text"
      },
      "source": [
        "### Loss Function\n",
        "\n",
        "A loss function takes the (output, target) pair of inputs, and computes a value that estimates how far away the output is from the target.\n",
        "There are several different loss functions under the nn package . A simple loss is: <mark style=\"background-color: yellow\">nn.MSELoss</mark> which computes the mean-squared error between the input and the target.\n",
        "    \n",
        "For example:"
      ]
    },
    {
      "cell_type": "code",
      "metadata": {
        "id": "11Z1KZFP7loN",
        "colab_type": "code",
        "colab": {},
        "outputId": "8c17dd6d-54ee-4245-9362-618b44eac44b"
      },
      "source": [
        "output = net(inp)\n",
        "target = torch.randn(10)  # a dummy target, for example\n",
        "target = target.view(1, -1)  # make it the same shape as output\n",
        "criterion = nn.MSELoss()\n",
        "\n",
        "loss = criterion(output, target)\n",
        "print(loss)"
      ],
      "execution_count": 0,
      "outputs": [
        {
          "output_type": "stream",
          "text": [
            "tensor(0.8201, grad_fn=<MseLossBackward>)\n"
          ],
          "name": "stdout"
        }
      ]
    },
    {
      "cell_type": "markdown",
      "metadata": {
        "id": "XVROCP9h7loZ",
        "colab_type": "text"
      },
      "source": [
        "Now, if you follow loss in the backward direction, using its <mark style=\"background-color: yellow\">.grad_fn</mark>attribute, you will see a graph of computations that looks like this:"
      ]
    },
    {
      "cell_type": "markdown",
      "metadata": {
        "id": "A6vftVtA7lob",
        "colab_type": "text"
      },
      "source": [
        "input  ->   conv2d  ->   relu  ->   maxpool2d  ->   conv2d ->   relu  ->   maxpool2d\n",
        "      \n",
        "      -> view -> linear -> relu -> linear -> relu -> linear\n",
        "      \n",
        "      -> MSELoss\n",
        "      \n",
        "      -> loss"
      ]
    },
    {
      "cell_type": "markdown",
      "metadata": {
        "id": "xnmwd8197loc",
        "colab_type": "text"
      },
      "source": [
        "So, when we call <mark style=\"background-color: yellow\">loss.backward()</mark>, the whole graph is differentiated w.r.t. the loss, and all Tensors in the graph that has requires_grad=True will have their .grad Tensor accumulated with the gradient.\n",
        "\n",
        "\n",
        "For illustration, let us follow a few steps <mark style=\"background-color: yellow\">backward</mark>:"
      ]
    },
    {
      "cell_type": "code",
      "metadata": {
        "id": "AXMal7El7loe",
        "colab_type": "code",
        "colab": {},
        "outputId": "933c67dc-a76e-43c1-cb76-d447f50aafa3"
      },
      "source": [
        "print(loss.grad_fn)  # MSELoss\n",
        "print(loss.grad_fn.next_functions[0][0])  # Linear\n",
        "print(loss.grad_fn.next_functions[0][0].next_functions[0][0])  # ReLU"
      ],
      "execution_count": 0,
      "outputs": [
        {
          "output_type": "stream",
          "text": [
            "<MseLossBackward object at 0x000001552B599108>\n",
            "<AddmmBackward object at 0x000001552B5990C8>\n",
            "<AccumulateGrad object at 0x000001552B595308>\n"
          ],
          "name": "stdout"
        }
      ]
    },
    {
      "cell_type": "markdown",
      "metadata": {
        "id": "jLdlMl8W7lol",
        "colab_type": "text"
      },
      "source": [
        "### Backprop\n",
        "\n",
        "To backpropagate the error all we have to do is to <mark style=\"background-color: yellow\">loss.backward()</mark>. You need to clear the existing gradients though, else gradients will be accumulated to existing gradients.\n",
        "\n",
        "\n",
        "Now we shall call <mark style=\"background-color: yellow\">loss.backward()</mark>, and have a look at conv1’s bias gradients before and after the backward."
      ]
    },
    {
      "cell_type": "code",
      "metadata": {
        "id": "9LAVmrsK7lop",
        "colab_type": "code",
        "colab": {},
        "outputId": "32c5137f-99f8-4d49-a573-cf8ed4a960be"
      },
      "source": [
        "net.zero_grad()     # zeroes the gradient buffers of all parameters\n",
        "\n",
        "print('conv1.bias.grad before backward')\n",
        "print(net.conv1.bias.grad)\n",
        "\n",
        "loss.backward()\n",
        "\n",
        "print('conv1.bias.grad after backward')\n",
        "print(net.conv1.bias.grad)"
      ],
      "execution_count": 0,
      "outputs": [
        {
          "output_type": "stream",
          "text": [
            "conv1.bias.grad before backward\n",
            "tensor([0., 0., 0., 0., 0., 0.])\n",
            "conv1.bias.grad after backward\n",
            "tensor([ 0.0048,  0.0182, -0.0052,  0.0043,  0.0079, -0.0025])\n"
          ],
          "name": "stdout"
        }
      ]
    },
    {
      "cell_type": "markdown",
      "metadata": {
        "id": "pV0cQ-VF7lov",
        "colab_type": "text"
      },
      "source": [
        "### Update the weights\n",
        "\n",
        "The simplest update rule used in practice is the Stochastic Gradient Descent (SGD):\n",
        "    \n",
        "   <mark style=\"background-color: yellow\"> weight = weight - learning_rate * gradient </mark>\n",
        "   \n",
        "We can implement this using simple Python code:"
      ]
    },
    {
      "cell_type": "code",
      "metadata": {
        "id": "aGVM5zGh7low",
        "colab_type": "code",
        "colab": {}
      },
      "source": [
        "learning_rate = 0.01\n",
        "for f in net.parameters():\n",
        "    f.data.sub_(f.grad.data * learning_rate)"
      ],
      "execution_count": 0,
      "outputs": []
    },
    {
      "cell_type": "markdown",
      "metadata": {
        "id": "REKZYIaN7lo-",
        "colab_type": "text"
      },
      "source": [
        "However, as you use neural networks, you want to use various different update rules such as SGD, Nesterov-SGD, Adam, RMSProp, etc. To enable this, we built a small package: torch.optim that implements all these methods. Using it is very simple:"
      ]
    },
    {
      "cell_type": "code",
      "metadata": {
        "id": "VEb6atgk7lo_",
        "colab_type": "code",
        "colab": {}
      },
      "source": [
        "import torch.optim as optim\n",
        "\n",
        "# create your optimizer\n",
        "optimizer = optim.SGD(net.parameters(), lr=0.01)\n",
        "\n",
        "# in your training loop:\n",
        "optimizer.zero_grad()   # zero the gradient buffers\n",
        "output = net(inp)\n",
        "loss = criterion(output, target)\n",
        "loss.backward()\n",
        "optimizer.step()    # Does the update"
      ],
      "execution_count": 0,
      "outputs": []
    },
    {
      "cell_type": "markdown",
      "metadata": {
        "id": "nPgAECMs7lpG",
        "colab_type": "text"
      },
      "source": [
        "Observe how gradient buffers had to be manually set to zero using <mark style=\"background-color:yellow\">optimizer.zero_grad()</mark>. This is because gradients are accumulated as explained in the <mark style=\"font-color:red\">Backprop</mark> section."
      ]
    },
    {
      "cell_type": "code",
      "metadata": {
        "id": "fFLLs-jw7lpH",
        "colab_type": "code",
        "colab": {}
      },
      "source": [
        ""
      ],
      "execution_count": 0,
      "outputs": []
    }
  ]
}